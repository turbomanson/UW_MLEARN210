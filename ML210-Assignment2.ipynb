{
 "cells": [
  {
   "cell_type": "markdown",
   "metadata": {},
   "source": [
    "## <h1>Lesson 2. Regression analysis: How Much Is Your Car Worth?</h1>"
   ]
  },
  {
   "cell_type": "markdown",
   "metadata": {},
   "source": [
    "<img src=\"https://upload.wikimedia.org/wikipedia/commons/thumb/7/72/Kelley_Blue_Book_Vertical.JPG/152px-Kelley_Blue_Book_Vertical.JPG\" style=\"height:200px;\">\n",
    "  \n",
    "  <p>This exercise will use data collected from <a href=\"https://www.kbb.com/\">Kelly Blue Book</a> for 2005 for used General Motors (GM) cars. The overall goal is to predict the suggested retail price of the car (<a href=\"http://ww2.amstat.org/publications/jse/jse_data_archive.htm\">Kuiper (2008), JSE</a>).</p>\n",
    "\n",
    "<p>The following features are available for this dataset:</p>\n",
    "<ul>\n",
    "<li>Price: Suggested retail price of the used 2005 GM car</li>\n",
    "<li>Mileage: Car mileage</li>\n",
    "<li>Cylinder: Number of cylinders in the engine</li>\n",
    "<li>Doors: Number of doors</li>\n",
    "<li>Cruise: Does it have cruise control</li>\n",
    "<li>Sound: Does it have upgraded sound?</li>\n",
    "<li>Leather: Does it have leather seats?</li>\n",
    "<li>Make columns (indicator variables):\n",
    "    <ul>\n",
    "        <li>Buick</li>\n",
    "        <li>Cadillac</li>\n",
    "        <li>Chevy</li>\n",
    "        <li>Pontiac</li>\n",
    "        <li>Saab</li>\n",
    "        <li>...</li>\n",
    "    </ul>\n",
    "</li>\n",
    "<li>Body Type columns (indicator variables):\n",
    "    <ul>\n",
    "        <li>convertible</li>\n",
    "        <li>coupe</li>\n",
    "        <li>hatchback</li>\n",
    "        <li>sedan</li>\n",
    "        <li>...</li>\n",
    "    </ul>\n",
    "</li>\n",
    "</ul>\n"
   ]
  },
  {
   "cell_type": "code",
   "execution_count": 1,
   "metadata": {},
   "outputs": [
    {
     "data": {
      "text/html": [
       "<div>\n",
       "<style>\n",
       "    .dataframe thead tr:only-child th {\n",
       "        text-align: right;\n",
       "    }\n",
       "\n",
       "    .dataframe thead th {\n",
       "        text-align: left;\n",
       "    }\n",
       "\n",
       "    .dataframe tbody tr th {\n",
       "        vertical-align: top;\n",
       "    }\n",
       "</style>\n",
       "<table border=\"1\" class=\"dataframe\">\n",
       "  <thead>\n",
       "    <tr style=\"text-align: right;\">\n",
       "      <th></th>\n",
       "      <th>Price</th>\n",
       "      <th>Mileage</th>\n",
       "      <th>Cylinder</th>\n",
       "      <th>Doors</th>\n",
       "      <th>Cruise</th>\n",
       "      <th>Sound</th>\n",
       "      <th>Leather</th>\n",
       "      <th>Buick</th>\n",
       "      <th>Cadillac</th>\n",
       "      <th>Chevy</th>\n",
       "      <th>Pontiac</th>\n",
       "      <th>Saab</th>\n",
       "      <th>Saturn</th>\n",
       "      <th>convertible</th>\n",
       "      <th>coupe</th>\n",
       "      <th>hatchback</th>\n",
       "      <th>sedan</th>\n",
       "      <th>wagon</th>\n",
       "    </tr>\n",
       "  </thead>\n",
       "  <tbody>\n",
       "    <tr>\n",
       "      <th>0</th>\n",
       "      <td>22661.05</td>\n",
       "      <td>20105</td>\n",
       "      <td>6</td>\n",
       "      <td>4</td>\n",
       "      <td>1</td>\n",
       "      <td>0</td>\n",
       "      <td>0</td>\n",
       "      <td>1</td>\n",
       "      <td>0</td>\n",
       "      <td>0</td>\n",
       "      <td>0</td>\n",
       "      <td>0</td>\n",
       "      <td>0</td>\n",
       "      <td>0</td>\n",
       "      <td>0</td>\n",
       "      <td>0</td>\n",
       "      <td>1</td>\n",
       "      <td>0</td>\n",
       "    </tr>\n",
       "    <tr>\n",
       "      <th>1</th>\n",
       "      <td>21725.01</td>\n",
       "      <td>13457</td>\n",
       "      <td>6</td>\n",
       "      <td>2</td>\n",
       "      <td>1</td>\n",
       "      <td>1</td>\n",
       "      <td>0</td>\n",
       "      <td>0</td>\n",
       "      <td>0</td>\n",
       "      <td>1</td>\n",
       "      <td>0</td>\n",
       "      <td>0</td>\n",
       "      <td>0</td>\n",
       "      <td>0</td>\n",
       "      <td>1</td>\n",
       "      <td>0</td>\n",
       "      <td>0</td>\n",
       "      <td>0</td>\n",
       "    </tr>\n",
       "    <tr>\n",
       "      <th>2</th>\n",
       "      <td>29142.71</td>\n",
       "      <td>31655</td>\n",
       "      <td>4</td>\n",
       "      <td>2</td>\n",
       "      <td>1</td>\n",
       "      <td>1</td>\n",
       "      <td>1</td>\n",
       "      <td>0</td>\n",
       "      <td>0</td>\n",
       "      <td>0</td>\n",
       "      <td>0</td>\n",
       "      <td>1</td>\n",
       "      <td>0</td>\n",
       "      <td>1</td>\n",
       "      <td>0</td>\n",
       "      <td>0</td>\n",
       "      <td>0</td>\n",
       "      <td>0</td>\n",
       "    </tr>\n",
       "    <tr>\n",
       "      <th>3</th>\n",
       "      <td>30731.94</td>\n",
       "      <td>22479</td>\n",
       "      <td>4</td>\n",
       "      <td>2</td>\n",
       "      <td>1</td>\n",
       "      <td>0</td>\n",
       "      <td>0</td>\n",
       "      <td>0</td>\n",
       "      <td>0</td>\n",
       "      <td>0</td>\n",
       "      <td>0</td>\n",
       "      <td>1</td>\n",
       "      <td>0</td>\n",
       "      <td>1</td>\n",
       "      <td>0</td>\n",
       "      <td>0</td>\n",
       "      <td>0</td>\n",
       "      <td>0</td>\n",
       "    </tr>\n",
       "    <tr>\n",
       "      <th>4</th>\n",
       "      <td>33358.77</td>\n",
       "      <td>17590</td>\n",
       "      <td>4</td>\n",
       "      <td>2</td>\n",
       "      <td>1</td>\n",
       "      <td>1</td>\n",
       "      <td>1</td>\n",
       "      <td>0</td>\n",
       "      <td>0</td>\n",
       "      <td>0</td>\n",
       "      <td>0</td>\n",
       "      <td>1</td>\n",
       "      <td>0</td>\n",
       "      <td>1</td>\n",
       "      <td>0</td>\n",
       "      <td>0</td>\n",
       "      <td>0</td>\n",
       "      <td>0</td>\n",
       "    </tr>\n",
       "  </tbody>\n",
       "</table>\n",
       "</div>"
      ],
      "text/plain": [
       "      Price  Mileage  Cylinder  Doors  Cruise  Sound  Leather  Buick  \\\n",
       "0  22661.05    20105         6      4       1      0        0      1   \n",
       "1  21725.01    13457         6      2       1      1        0      0   \n",
       "2  29142.71    31655         4      2       1      1        1      0   \n",
       "3  30731.94    22479         4      2       1      0        0      0   \n",
       "4  33358.77    17590         4      2       1      1        1      0   \n",
       "\n",
       "   Cadillac  Chevy  Pontiac  Saab  Saturn  convertible  coupe  hatchback  \\\n",
       "0         0      0        0     0       0            0      0          0   \n",
       "1         0      1        0     0       0            0      1          0   \n",
       "2         0      0        0     1       0            1      0          0   \n",
       "3         0      0        0     1       0            1      0          0   \n",
       "4         0      0        0     1       0            1      0          0   \n",
       "\n",
       "   sedan  wagon  \n",
       "0      1      0  \n",
       "1      0      0  \n",
       "2      0      0  \n",
       "3      0      0  \n",
       "4      0      0  "
      ]
     },
     "execution_count": 1,
     "metadata": {},
     "output_type": "execute_result"
    }
   ],
   "source": [
    "import pandas as pd\n",
    "\n",
    "cars = pd.read_csv('cars.csv')\n",
    "cars.head()"
   ]
  },
  {
   "cell_type": "code",
   "execution_count": 2,
   "metadata": {},
   "outputs": [
    {
     "name": "stdout",
     "output_type": "stream",
     "text": [
      "<class 'pandas.core.frame.DataFrame'>\n",
      "RangeIndex: 804 entries, 0 to 803\n",
      "Data columns (total 18 columns):\n",
      "Price          804 non-null float64\n",
      "Mileage        804 non-null int64\n",
      "Cylinder       804 non-null int64\n",
      "Doors          804 non-null int64\n",
      "Cruise         804 non-null int64\n",
      "Sound          804 non-null int64\n",
      "Leather        804 non-null int64\n",
      "Buick          804 non-null int64\n",
      "Cadillac       804 non-null int64\n",
      "Chevy          804 non-null int64\n",
      "Pontiac        804 non-null int64\n",
      "Saab           804 non-null int64\n",
      "Saturn         804 non-null int64\n",
      "convertible    804 non-null int64\n",
      "coupe          804 non-null int64\n",
      "hatchback      804 non-null int64\n",
      "sedan          804 non-null int64\n",
      "wagon          804 non-null int64\n",
      "dtypes: float64(1), int64(17)\n",
      "memory usage: 113.1 KB\n"
     ]
    }
   ],
   "source": [
    "cars.info()"
   ]
  },
  {
   "cell_type": "markdown",
   "metadata": {},
   "source": [
    "<h3>Q.1. Plot Price vs. Mileage. From the plot, does it seem like cars with more mileage are worth less?</h3>"
   ]
  },
  {
   "cell_type": "code",
   "execution_count": 3,
   "metadata": {},
   "outputs": [
    {
     "data": {
      "text/plain": [
       "Text(0,0.5,'price')"
      ]
     },
     "execution_count": 3,
     "metadata": {},
     "output_type": "execute_result"
    },
    {
     "data": {
      "image/png": "[encoded data removed]",
      "text/plain": [
       "<matplotlib.figure.Figure at 0x7f8b5e7669b0>"
      ]
     },
     "metadata": {},
     "output_type": "display_data"
    }
   ],
   "source": [
    "# Put the command (or commands) here that would give answer to the above question.\n",
    "import matplotlib.pyplot as plt\n",
    "% matplotlib inline\n",
    "\n",
    "plt.scatter(cars.Mileage, cars.Price)\n",
    "plt.xlabel('mileage')\n",
    "plt.ylabel('price')\n",
    "\n",
    "#There appears to be evidence of a negative correlation between price and mileage."
   ]
  },
  {
   "cell_type": "markdown",
   "metadata": {},
   "source": [
    "<h3>Q.2. Develop a simple linear regression model, relating price with mileage only. Show summary statistics for the model.</h3> "
   ]
  },
  {
   "cell_type": "code",
   "execution_count": 4,
   "metadata": {},
   "outputs": [
    {
     "name": "stdout",
     "output_type": "stream",
     "text": [
      "slope: -0.17252050260202134 \n",
      "intercept: 24764.558991201993 \n",
      "r^2: 0.020463447285560946 \n",
      "p: 4.684698031518038e-05 \n",
      "std error: 0.04214775583437192 \n"
     ]
    }
   ],
   "source": [
    "# Linear regression model:\n",
    "from scipy import stats\n",
    "slope, intercept, r_value, p_value, std_err = stats.linregress(cars.Mileage, cars.Price)\n",
    "# Show summary statistics for the model:\n",
    "print('slope: {} \\nintercept: {} \\nr^2: {} \\np: {} \\nstd error: {} '.format(slope, intercept, r_value**2, p_value, std_err))"
   ]
  },
  {
   "cell_type": "markdown",
   "metadata": {},
   "source": [
    "<h3>Q.3. What happens to price when there is one more mile on the car?</h3>"
   ]
  },
  {
   "cell_type": "code",
   "execution_count": 5,
   "metadata": {},
   "outputs": [
    {
     "data": {
      "text/plain": [
       "-0.17252050260202134"
      ]
     },
     "execution_count": 5,
     "metadata": {},
     "output_type": "execute_result"
    }
   ],
   "source": [
    "# Command:\n",
    "slope\n",
    "# One sentence summary:\n",
    "# For every increase in mileage the value of the car decreases 17 cents. "
   ]
  },
  {
   "cell_type": "markdown",
   "metadata": {},
   "source": [
    "<h3>Q.4. What is the expected value of a car with 0 miles according to your model?</h3>"
   ]
  },
  {
   "cell_type": "code",
   "execution_count": 6,
   "metadata": {},
   "outputs": [
    {
     "data": {
      "text/plain": [
       "24764.558991201993"
      ]
     },
     "execution_count": 6,
     "metadata": {},
     "output_type": "execute_result"
    }
   ],
   "source": [
    "# Single command\n",
    "intercept\n",
    "\n",
    "# $24,764.56"
   ]
  },
  {
   "cell_type": "markdown",
   "metadata": {},
   "source": [
    "<h3>Q.5. Plot residuals of the model vs. fitted values. Are there any problems that you see with the model?</h3>"
   ]
  },
  {
   "cell_type": "code",
   "execution_count": 7,
   "metadata": {
    "scrolled": false
   },
   "outputs": [
    {
     "data": {
      "image/png": "[encoded data removed]",
      "text/plain": [
       "<matplotlib.figure.Figure at 0x7f8b51d7aa58>"
      ]
     },
     "metadata": {},
     "output_type": "display_data"
    },
    {
     "data": {
      "image/png": "[encoded data removed]",
      "text/plain": [
       "<matplotlib.figure.Figure at 0x7f8b51cd1eb8>"
      ]
     },
     "metadata": {},
     "output_type": "display_data"
    }
   ],
   "source": [
    "# Plot residuals\n",
    "\n",
    "#Model\n",
    "Fx = lambda x: x*slope+intercept\n",
    "\n",
    "#PLOT\n",
    "fig1 = plt.figure(1, figsize=(14, 8))\n",
    "#Plot Data-model\n",
    "frame1=fig1.add_axes((.1,.3,.8,.6)) \n",
    "#xstart, ystart, xend, yend [units are fraction of the image frame, from bottom left corner]\n",
    "plt.plot(cars.Mileage,cars.Price,'.k') #data\n",
    "plt.plot(cars.Mileage,Fx(cars.Mileage),'-b') #model\n",
    "plt.title(\"Simple Linear Model: Price =  b1*Mileage + b0\")\n",
    "frame1.set_xticklabels([]) #Remove x-tic labels for the first frame\n",
    "plt.ylabel('price')\n",
    "plt.grid()\n",
    "\n",
    "#Residual plot\n",
    "difference = cars.Price - Fx(cars.Mileage)\n",
    "frame2=fig1.add_axes((.1,.1,.8,.2))        \n",
    "plt.plot(cars.Mileage,difference,'.r')\n",
    "plt.title('Residuals', position=(.5, .85))\n",
    "plt.xlabel('mileage')\n",
    "plt.grid()\n",
    "\n",
    "#Residual Histogram\n",
    "fig2 = plt.figure(2, figsize=(14, 5))\n",
    "frame3=fig2.add_axes((.1,1,.8,1))\n",
    "plt.hist(difference)\n",
    "plt.xlabel('Residual Value')\n",
    "plt.ylabel('Count')\n",
    "plt.title('Distribution of Residuals')\n",
    "plt.grid()\n",
    "\n",
    "# Explain whether there are any problems (1-2 sentence)\n",
    "# The residuals are not normally distributed, violating one of the core assumptions of the linear model. \n",
    "# They are negatively skewed, with a high kurtosis of the posetive tail."
   ]
  },
  {
   "cell_type": "markdown",
   "metadata": {},
   "source": [
    "<h3>Q.6. Develop a model that predicts the Price from Mileage, Cylinder, Doors, Cruise, Sound, Leather data. Is this model more accurate - explain why (1-2 sentence). </h3>"
   ]
  },
  {
   "cell_type": "code",
   "execution_count": 8,
   "metadata": {},
   "outputs": [
    {
     "name": "stderr",
     "output_type": "stream",
     "text": [
      "/usr/local/lib/python3.5/dist-packages/statsmodels/compat/pandas.py:56: FutureWarning: The pandas.core.datetools module is deprecated and will be removed in a future version. Please use the pandas.tseries module instead.\n",
      "  from pandas.core import datetools\n"
     ]
    },
    {
     "data": {
      "text/html": [
       "<table class=\"simpletable\">\n",
       "<caption>OLS Regression Results</caption>\n",
       "<tr>\n",
       "  <th>Dep. Variable:</th>          <td>Price</td>      <th>  R-squared:         </th> <td>   0.900</td> \n",
       "</tr>\n",
       "<tr>\n",
       "  <th>Model:</th>                   <td>OLS</td>       <th>  Adj. R-squared:    </th> <td>   0.899</td> \n",
       "</tr>\n",
       "<tr>\n",
       "  <th>Method:</th>             <td>Least Squares</td>  <th>  F-statistic:       </th> <td>   1198.</td> \n",
       "</tr>\n",
       "<tr>\n",
       "  <th>Date:</th>             <td>Wed, 17 Oct 2018</td> <th>  Prob (F-statistic):</th>  <td>  0.00</td>  \n",
       "</tr>\n",
       "<tr>\n",
       "  <th>Time:</th>                 <td>18:52:03</td>     <th>  Log-Likelihood:    </th> <td> -8307.5</td> \n",
       "</tr>\n",
       "<tr>\n",
       "  <th>No. Observations:</th>      <td>   804</td>      <th>  AIC:               </th> <td>1.663e+04</td>\n",
       "</tr>\n",
       "<tr>\n",
       "  <th>Df Residuals:</th>          <td>   798</td>      <th>  BIC:               </th> <td>1.666e+04</td>\n",
       "</tr>\n",
       "<tr>\n",
       "  <th>Df Model:</th>              <td>     6</td>      <th>                     </th>     <td> </td>    \n",
       "</tr>\n",
       "<tr>\n",
       "  <th>Covariance Type:</th>      <td>nonrobust</td>    <th>                     </th>     <td> </td>    \n",
       "</tr>\n",
       "</table>\n",
       "<table class=\"simpletable\">\n",
       "<tr>\n",
       "      <td></td>        <th>coef</th>     <th>std err</th>      <th>t</th>      <th>P>|t|</th>  <th>[0.025</th>    <th>0.975]</th>  \n",
       "</tr>\n",
       "<tr>\n",
       "  <th>Mileage</th>  <td>   -0.1196</td> <td>    0.030</td> <td>   -4.030</td> <td> 0.000</td> <td>   -0.178</td> <td>   -0.061</td>\n",
       "</tr>\n",
       "<tr>\n",
       "  <th>Cylinder</th> <td> 3615.2074</td> <td>  178.201</td> <td>   20.287</td> <td> 0.000</td> <td> 3265.409</td> <td> 3965.006</td>\n",
       "</tr>\n",
       "<tr>\n",
       "  <th>Doors</th>    <td> -635.4939</td> <td>  236.775</td> <td>   -2.684</td> <td> 0.007</td> <td>-1100.270</td> <td> -170.718</td>\n",
       "</tr>\n",
       "<tr>\n",
       "  <th>Cruise</th>   <td> 6528.7484</td> <td>  653.250</td> <td>    9.994</td> <td> 0.000</td> <td> 5246.457</td> <td> 7811.040</td>\n",
       "</tr>\n",
       "<tr>\n",
       "  <th>Sound</th>    <td>-1350.7612</td> <td>  552.468</td> <td>   -2.445</td> <td> 0.015</td> <td>-2435.224</td> <td> -266.298</td>\n",
       "</tr>\n",
       "<tr>\n",
       "  <th>Leather</th>  <td> 3806.1630</td> <td>  591.652</td> <td>    6.433</td> <td> 0.000</td> <td> 2644.786</td> <td> 4967.540</td>\n",
       "</tr>\n",
       "</table>\n",
       "<table class=\"simpletable\">\n",
       "<tr>\n",
       "  <th>Omnibus:</th>       <td>148.684</td> <th>  Durbin-Watson:     </th> <td>   0.520</td>\n",
       "</tr>\n",
       "<tr>\n",
       "  <th>Prob(Omnibus):</th> <td> 0.000</td>  <th>  Jarque-Bera (JB):  </th> <td> 265.645</td>\n",
       "</tr>\n",
       "<tr>\n",
       "  <th>Skew:</th>          <td> 1.114</td>  <th>  Prob(JB):          </th> <td>2.07e-58</td>\n",
       "</tr>\n",
       "<tr>\n",
       "  <th>Kurtosis:</th>      <td> 4.723</td>  <th>  Cond. No.          </th> <td>5.47e+04</td>\n",
       "</tr>\n",
       "</table>"
      ],
      "text/plain": [
       "<class 'statsmodels.iolib.summary.Summary'>\n",
       "\"\"\"\n",
       "                            OLS Regression Results                            \n",
       "==============================================================================\n",
       "Dep. Variable:                  Price   R-squared:                       0.900\n",
       "Model:                            OLS   Adj. R-squared:                  0.899\n",
       "Method:                 Least Squares   F-statistic:                     1198.\n",
       "Date:                Wed, 17 Oct 2018   Prob (F-statistic):               0.00\n",
       "Time:                        18:52:03   Log-Likelihood:                -8307.5\n",
       "No. Observations:                 804   AIC:                         1.663e+04\n",
       "Df Residuals:                     798   BIC:                         1.666e+04\n",
       "Df Model:                           6                                         \n",
       "Covariance Type:            nonrobust                                         \n",
       "==============================================================================\n",
       "                 coef    std err          t      P>|t|      [0.025      0.975]\n",
       "------------------------------------------------------------------------------\n",
       "Mileage       -0.1196      0.030     -4.030      0.000      -0.178      -0.061\n",
       "Cylinder    3615.2074    178.201     20.287      0.000    3265.409    3965.006\n",
       "Doors       -635.4939    236.775     -2.684      0.007   -1100.270    -170.718\n",
       "Cruise      6528.7484    653.250      9.994      0.000    5246.457    7811.040\n",
       "Sound      -1350.7612    552.468     -2.445      0.015   -2435.224    -266.298\n",
       "Leather     3806.1630    591.652      6.433      0.000    2644.786    4967.540\n",
       "==============================================================================\n",
       "Omnibus:                      148.684   Durbin-Watson:                   0.520\n",
       "Prob(Omnibus):                  0.000   Jarque-Bera (JB):              265.645\n",
       "Skew:                           1.114   Prob(JB):                     2.07e-58\n",
       "Kurtosis:                       4.723   Cond. No.                     5.47e+04\n",
       "==============================================================================\n",
       "\n",
       "Warnings:\n",
       "[1] Standard Errors assume that the covariance matrix of the errors is correctly specified.\n",
       "[2] The condition number is large, 5.47e+04. This might indicate that there are\n",
       "strong multicollinearity or other numerical problems.\n",
       "\"\"\""
      ]
     },
     "execution_count": 8,
     "metadata": {},
     "output_type": "execute_result"
    }
   ],
   "source": [
    "# Commands:\n",
    "import statsmodels.api as sm\n",
    "\n",
    "features = cars[['Mileage',\n",
    "                 'Cylinder',\n",
    "                 'Doors',\n",
    "                 'Cruise',\n",
    "                 'Sound',\n",
    "                 'Leather']]\n",
    "\n",
    "labels = cars.Price\n",
    "\n",
    "model = sm.OLS(labels,features).fit()\n",
    "\n",
    "model.summary()\n",
    "\n",
    "# Explanation:\n",
    "# The model is much better. The r squared statistic increased from .02 to .90.  The model went from explaining very little\n",
    "# of the variation in price to the majority of the variation in price."
   ]
  },
  {
   "cell_type": "markdown",
   "metadata": {},
   "source": [
    "<h3>Q.7. Are any of the features in the above model highly colinear to the point where they impact the model quality?</h3>"
   ]
  },
  {
   "cell_type": "markdown",
   "metadata": {
    "collapsed": true
   },
   "source": [
    "\\# Command(s):\n",
    "\n",
    "\\# Comment on the result  \n",
    "Although the predictors fail individual t-tests, the overall regression is significant, i.e. the predictors are jointly informative, according to the F-test. "
   ]
  },
  {
   "cell_type": "markdown",
   "metadata": {},
   "source": [
    "<h3>Q.8. What is the expected price for the Chevy sedan described in variable 'chevy', shown below?</h3>"
   ]
  },
  {
   "cell_type": "code",
   "execution_count": 9,
   "metadata": {},
   "outputs": [
    {
     "name": "stdout",
     "output_type": "stream",
     "text": [
      "[18586.24985184]\n"
     ]
    }
   ],
   "source": [
    "#chevy = c(\"Mileage\"=30000, \"Cylinder\"=4, \"Doors\"=2, \"Cruise\"=1, \"Sound\"=1, \"Leather\"=1)\n",
    "# Commands that estimate the price of 'chevy' using the model with 6 predictors\n",
    "import numpy as np\n",
    "\n",
    "chevy = np.array([30000.0, 4.0, 2.0, 1.0, 1.0, 1.0], ndmin=2)\n",
    "\n",
    "print(model.predict(exog = chevy))"
   ]
  },
  {
   "cell_type": "markdown",
   "metadata": {},
   "source": [
    "<h3>Q.9. What is the expected price for the Chevy mentioned above if you include all features in the prediction? Can you comment on any problems you encounter when doing this prediction?</h3>"
   ]
  },
  {
   "cell_type": "code",
   "execution_count": 10,
   "metadata": {},
   "outputs": [
    {
     "name": "stdout",
     "output_type": "stream",
     "text": [
      "[7520.45931089]\n"
     ]
    }
   ],
   "source": [
    "# Commands\n",
    "features = cars.iloc[:, 1:]\n",
    "labels = cars.Price\n",
    "\n",
    "chevy_full = np.array([30000.0, 4.0, 2.0, 1.0, 1.0, 1.0, 0, 0, 1, 0, 0, 0, 0, 0, 0, 1, 0], ndmin=2)\n",
    "\n",
    "model = sm.OLS(labels,features).fit()\n",
    "\n",
    "model.summary()\n",
    "\n",
    "print(model.predict(exog = chevy_full))\n",
    "\n",
    "# The main problem that I see from a common sense perspective is that the price of the car dropped from $18.5k \n",
    "# down to $7.5k by including the body type and brand. This in it self is not surprising, but when we look at the \n",
    "# scatter plot in question #5 we see that this is a very low value even for a car with 30k miles on it."
   ]
  },
  {
   "cell_type": "code",
   "execution_count": 11,
   "metadata": {},
   "outputs": [
    {
     "data": {
      "text/html": [
       "<table class=\"simpletable\">\n",
       "<caption>OLS Regression Results</caption>\n",
       "<tr>\n",
       "  <th>Dep. Variable:</th>          <td>Price</td>      <th>  R-squared:         </th> <td>   0.915</td> \n",
       "</tr>\n",
       "<tr>\n",
       "  <th>Model:</th>                   <td>OLS</td>       <th>  Adj. R-squared:    </th> <td>   0.914</td> \n",
       "</tr>\n",
       "<tr>\n",
       "  <th>Method:</th>             <td>Least Squares</td>  <th>  F-statistic:       </th> <td>   607.2</td> \n",
       "</tr>\n",
       "<tr>\n",
       "  <th>Date:</th>             <td>Wed, 17 Oct 2018</td> <th>  Prob (F-statistic):</th>  <td>  0.00</td>  \n",
       "</tr>\n",
       "<tr>\n",
       "  <th>Time:</th>                 <td>18:52:04</td>     <th>  Log-Likelihood:    </th> <td> -7544.8</td> \n",
       "</tr>\n",
       "<tr>\n",
       "  <th>No. Observations:</th>      <td>   804</td>      <th>  AIC:               </th> <td>1.512e+04</td>\n",
       "</tr>\n",
       "<tr>\n",
       "  <th>Df Residuals:</th>          <td>   789</td>      <th>  BIC:               </th> <td>1.519e+04</td>\n",
       "</tr>\n",
       "<tr>\n",
       "  <th>Df Model:</th>              <td>    14</td>      <th>                     </th>     <td> </td>    \n",
       "</tr>\n",
       "<tr>\n",
       "  <th>Covariance Type:</th>      <td>nonrobust</td>    <th>                     </th>     <td> </td>    \n",
       "</tr>\n",
       "</table>\n",
       "<table class=\"simpletable\">\n",
       "<tr>\n",
       "       <td></td>          <th>coef</th>     <th>std err</th>      <th>t</th>      <th>P>|t|</th>  <th>[0.025</th>    <th>0.975]</th>  \n",
       "</tr>\n",
       "<tr>\n",
       "  <th>Mileage</th>     <td>   -0.1842</td> <td>    0.013</td> <td>  -14.664</td> <td> 0.000</td> <td>   -0.209</td> <td>   -0.160</td>\n",
       "</tr>\n",
       "<tr>\n",
       "  <th>Cylinder</th>    <td> 3659.4543</td> <td>  113.345</td> <td>   32.286</td> <td> 0.000</td> <td> 3436.961</td> <td> 3881.947</td>\n",
       "</tr>\n",
       "<tr>\n",
       "  <th>Doors</th>       <td> 1654.6326</td> <td>  174.525</td> <td>    9.481</td> <td> 0.000</td> <td> 1312.044</td> <td> 1997.221</td>\n",
       "</tr>\n",
       "<tr>\n",
       "  <th>Cruise</th>      <td>  340.8695</td> <td>  295.962</td> <td>    1.152</td> <td> 0.250</td> <td> -240.096</td> <td>  921.835</td>\n",
       "</tr>\n",
       "<tr>\n",
       "  <th>Sound</th>       <td>  440.9169</td> <td>  234.484</td> <td>    1.880</td> <td> 0.060</td> <td>  -19.370</td> <td>  901.204</td>\n",
       "</tr>\n",
       "<tr>\n",
       "  <th>Leather</th>     <td>  790.8220</td> <td>  249.745</td> <td>    3.167</td> <td> 0.002</td> <td>  300.579</td> <td> 1281.065</td>\n",
       "</tr>\n",
       "<tr>\n",
       "  <th>Buick</th>       <td>-1911.3752</td> <td>  336.292</td> <td>   -5.684</td> <td> 0.000</td> <td>-2571.507</td> <td>-1251.243</td>\n",
       "</tr>\n",
       "<tr>\n",
       "  <th>Cadillac</th>    <td>  1.05e+04</td> <td>  409.274</td> <td>   25.663</td> <td> 0.000</td> <td> 9699.900</td> <td> 1.13e+04</td>\n",
       "</tr>\n",
       "<tr>\n",
       "  <th>Chevy</th>       <td>-3408.2863</td> <td>  213.274</td> <td>  -15.981</td> <td> 0.000</td> <td>-3826.937</td> <td>-2989.635</td>\n",
       "</tr>\n",
       "<tr>\n",
       "  <th>Pontiac</th>     <td>-4258.9628</td> <td>  256.358</td> <td>  -16.613</td> <td> 0.000</td> <td>-4762.188</td> <td>-3755.737</td>\n",
       "</tr>\n",
       "<tr>\n",
       "  <th>Saab</th>        <td> 9419.1227</td> <td>  331.211</td> <td>   28.438</td> <td> 0.000</td> <td> 8768.963</td> <td> 1.01e+04</td>\n",
       "</tr>\n",
       "<tr>\n",
       "  <th>Saturn</th>      <td>-2859.0803</td> <td>  358.709</td> <td>   -7.970</td> <td> 0.000</td> <td>-3563.218</td> <td>-2154.943</td>\n",
       "</tr>\n",
       "<tr>\n",
       "  <th>convertible</th> <td> 1.258e+04</td> <td>  525.984</td> <td>   23.922</td> <td> 0.000</td> <td> 1.15e+04</td> <td> 1.36e+04</td>\n",
       "</tr>\n",
       "<tr>\n",
       "  <th>coupe</th>       <td> 1559.7620</td> <td>  395.946</td> <td>    3.939</td> <td> 0.000</td> <td>  782.531</td> <td> 2336.993</td>\n",
       "</tr>\n",
       "<tr>\n",
       "  <th>hatchback</th>   <td>-4977.3196</td> <td>  339.046</td> <td>  -14.680</td> <td> 0.000</td> <td>-5642.858</td> <td>-4311.782</td>\n",
       "</tr>\n",
       "<tr>\n",
       "  <th>sedan</th>       <td>-3064.7176</td> <td>  215.007</td> <td>  -14.254</td> <td> 0.000</td> <td>-3486.771</td> <td>-2642.665</td>\n",
       "</tr>\n",
       "<tr>\n",
       "  <th>wagon</th>       <td> 1384.6400</td> <td>  364.920</td> <td>    3.794</td> <td> 0.000</td> <td>  668.311</td> <td> 2100.969</td>\n",
       "</tr>\n",
       "</table>\n",
       "<table class=\"simpletable\">\n",
       "<tr>\n",
       "  <th>Omnibus:</th>       <td>68.748</td> <th>  Durbin-Watson:     </th> <td>   0.700</td>\n",
       "</tr>\n",
       "<tr>\n",
       "  <th>Prob(Omnibus):</th> <td> 0.000</td> <th>  Jarque-Bera (JB):  </th> <td> 221.096</td>\n",
       "</tr>\n",
       "<tr>\n",
       "  <th>Skew:</th>          <td> 0.376</td> <th>  Prob(JB):          </th> <td>9.76e-49</td>\n",
       "</tr>\n",
       "<tr>\n",
       "  <th>Kurtosis:</th>      <td> 5.457</td> <th>  Cond. No.          </th> <td>1.74e+20</td>\n",
       "</tr>\n",
       "</table>"
      ],
      "text/plain": [
       "<class 'statsmodels.iolib.summary.Summary'>\n",
       "\"\"\"\n",
       "                            OLS Regression Results                            \n",
       "==============================================================================\n",
       "Dep. Variable:                  Price   R-squared:                       0.915\n",
       "Model:                            OLS   Adj. R-squared:                  0.914\n",
       "Method:                 Least Squares   F-statistic:                     607.2\n",
       "Date:                Wed, 17 Oct 2018   Prob (F-statistic):               0.00\n",
       "Time:                        18:52:04   Log-Likelihood:                -7544.8\n",
       "No. Observations:                 804   AIC:                         1.512e+04\n",
       "Df Residuals:                     789   BIC:                         1.519e+04\n",
       "Df Model:                          14                                         \n",
       "Covariance Type:            nonrobust                                         \n",
       "===============================================================================\n",
       "                  coef    std err          t      P>|t|      [0.025      0.975]\n",
       "-------------------------------------------------------------------------------\n",
       "Mileage        -0.1842      0.013    -14.664      0.000      -0.209      -0.160\n",
       "Cylinder     3659.4543    113.345     32.286      0.000    3436.961    3881.947\n",
       "Doors        1654.6326    174.525      9.481      0.000    1312.044    1997.221\n",
       "Cruise        340.8695    295.962      1.152      0.250    -240.096     921.835\n",
       "Sound         440.9169    234.484      1.880      0.060     -19.370     901.204\n",
       "Leather       790.8220    249.745      3.167      0.002     300.579    1281.065\n",
       "Buick       -1911.3752    336.292     -5.684      0.000   -2571.507   -1251.243\n",
       "Cadillac      1.05e+04    409.274     25.663      0.000    9699.900    1.13e+04\n",
       "Chevy       -3408.2863    213.274    -15.981      0.000   -3826.937   -2989.635\n",
       "Pontiac     -4258.9628    256.358    -16.613      0.000   -4762.188   -3755.737\n",
       "Saab         9419.1227    331.211     28.438      0.000    8768.963    1.01e+04\n",
       "Saturn      -2859.0803    358.709     -7.970      0.000   -3563.218   -2154.943\n",
       "convertible  1.258e+04    525.984     23.922      0.000    1.15e+04    1.36e+04\n",
       "coupe        1559.7620    395.946      3.939      0.000     782.531    2336.993\n",
       "hatchback   -4977.3196    339.046    -14.680      0.000   -5642.858   -4311.782\n",
       "sedan       -3064.7176    215.007    -14.254      0.000   -3486.771   -2642.665\n",
       "wagon        1384.6400    364.920      3.794      0.000     668.311    2100.969\n",
       "==============================================================================\n",
       "Omnibus:                       68.748   Durbin-Watson:                   0.700\n",
       "Prob(Omnibus):                  0.000   Jarque-Bera (JB):              221.096\n",
       "Skew:                           0.376   Prob(JB):                     9.76e-49\n",
       "Kurtosis:                       5.457   Cond. No.                     1.74e+20\n",
       "==============================================================================\n",
       "\n",
       "Warnings:\n",
       "[1] Standard Errors assume that the covariance matrix of the errors is correctly specified.\n",
       "[2] The smallest eigenvalue is 1.22e-29. This might indicate that there are\n",
       "strong multicollinearity problems or that the design matrix is singular.\n",
       "\"\"\""
      ]
     },
     "execution_count": 11,
     "metadata": {},
     "output_type": "execute_result"
    }
   ],
   "source": [
    "model.summary()"
   ]
  },
  {
   "cell_type": "code",
   "execution_count": null,
   "metadata": {
    "collapsed": true
   },
   "outputs": [],
   "source": []
  }
 ],
 "metadata": {
  "kernelspec": {
   "display_name": "Python 3",
   "language": "python",
   "name": "python3"
  },
  "language_info": {
   "codemirror_mode": {
    "name": "ipython",
    "version": 3
   },
   "file_extension": ".py",
   "mimetype": "text/x-python",
   "name": "python",
   "nbconvert_exporter": "python",
   "pygments_lexer": "ipython3",
   "version": "3.5.2"
  }
 },
 "nbformat": 4,
 "nbformat_minor": 2
}
